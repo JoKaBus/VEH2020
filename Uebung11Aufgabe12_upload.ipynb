{
 "cells": [
  {
   "cell_type": "markdown",
   "metadata": {},
   "source": [
    "# Übung 1.1 zum Vorkurs angewandte Mathematik\n",
    "## Aufgabe 2\n",
    "- Plot a^2+b^2+c^2-(ab+bc+ca) for fixed value of c\n",
    "\n",
    "Jonathan Busse, 28.09.2020"
   ]
  },
  {
   "cell_type": "markdown",
   "metadata": {},
   "source": [
    "### Step 1: Import packages"
   ]
  },
  {
   "cell_type": "code",
   "execution_count": null,
   "metadata": {},
   "outputs": [],
   "source": [
    "import numpy as np\n",
    "import matplotlib.pyplot as plt\n",
    "from mpl_toolkits.mplot3d import Axes3D\n",
    "from matplotlib import cm"
   ]
  },
  {
   "cell_type": "markdown",
   "metadata": {},
   "source": [
    "### Step 2: Define Python functions"
   ]
  },
  {
   "cell_type": "code",
   "execution_count": null,
   "metadata": {},
   "outputs": [],
   "source": [
    "def abc(a,b,c):\n",
    "    return np.arctan(abs(a**2+b**2+c**2-a*b-b*c-c*a))\n",
    "#     return a**2+b**2+c**2-a*b-b*c-c*a # activate for normal plot\n",
    "\n",
    "def ABCArrays(c): \n",
    "    plot_min = 0; plot_max = 10\n",
    "    stepsize = 0.125\n",
    "    X = np.arange(plot_min,plot_max, stepsize); Y = np.arange(plot_min,plot_max, stepsize)\n",
    "    X, Y = np.meshgrid(X, Y); Z = X*0\n",
    "    xn, yn = X.shape\n",
    "    for xk in range(xn):\n",
    "        for yk in range(yn):\n",
    "            a = plot_min + xk*stepsize; b = plot_min + yk*stepsize;\n",
    "            Z[xk,yk] = float(abc(a,b,c))\n",
    "    return X, Y, Z\n",
    "\n",
    "def ABCPlot(X,Y,Z,c):\n",
    "    plt.rcParams['figure.dpi'] = 120\n",
    "    fig = plt.figure(); ax = Axes3D(fig)  \n",
    "    ax.plot_surface(X, Y, Z, rstride=1, cstride=1, cmap=cm.jet,label = '$(a,b)\\mapsto |a^2+b^2+c^2-ab-bc-ca|$')\n",
    "    ax.set_title('$(a,b)\\mapsto$ arctan$(a^2+b^2+c^2-ab-bc-ca$) for $c = ${}'.format(c), fontsize=13)\n",
    "    ax.set_xlabel('preimage a'); ax.set_ylabel('preimage b'); ax.set_zlabel('image')"
   ]
  },
  {
   "cell_type": "markdown",
   "metadata": {},
   "source": [
    "### Step 3: Choose Variable"
   ]
  },
  {
   "cell_type": "code",
   "execution_count": null,
   "metadata": {},
   "outputs": [],
   "source": [
    "c = 4"
   ]
  },
  {
   "cell_type": "markdown",
   "metadata": {},
   "source": [
    "### Step 4: Use Python Functions"
   ]
  },
  {
   "cell_type": "code",
   "execution_count": null,
   "metadata": {
    "scrolled": false
   },
   "outputs": [],
   "source": [
    "X, Y, Z = ABCArrays(c)\n",
    "ABCPlot(X,Y,Z,c)"
   ]
  }
 ],
 "metadata": {
  "kernelspec": {
   "display_name": "Python 3",
   "language": "python",
   "name": "python3"
  },
  "language_info": {
   "codemirror_mode": {
    "name": "ipython",
    "version": 3
   },
   "file_extension": ".py",
   "mimetype": "text/x-python",
   "name": "python",
   "nbconvert_exporter": "python",
   "pygments_lexer": "ipython3",
   "version": "3.7.6"
  }
 },
 "nbformat": 4,
 "nbformat_minor": 4
}
